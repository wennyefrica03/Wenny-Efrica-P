{
 "cells": [
  {
   "cell_type": "code",
   "execution_count": 1,
   "metadata": {},
   "outputs": [
    {
     "data": {
      "application/vnd.jupyter.widget-view+json": {
       "model_id": "cabcd767-5971-4822-bd98-334413b383ec",
       "version_major": 2,
       "version_minor": 0
      },
      "method": "display_data"
     },
     "metadata": {},
     "output_type": "display_data"
    }
   ],
   "source": [
    "%classpath add jar libs/*"
   ]
  },
  {
   "cell_type": "code",
   "execution_count": 2,
   "metadata": {},
   "outputs": [
    {
     "name": "stdout",
     "output_type": "stream",
     "text": [
      "                                                                                                                              12181625.csv                                                                                                                              \n",
      " _id  |  idx  |                                                                series                                                                 |  kode_wilayah  |           wilayah           |  tahun  |  triwulan  |  bulan  |  tanggal  |  nilai  |  target  |\n",
      "------------------------------------------------------------------------------------------------------------------------------------------------------------------------------------------------------------------------------------------------------------------------\n",
      "   1  |    0  |  Jumlah Rumah Tangga Pertanian Menurut Wilayah dan Sumber Pendapatan Utama dari Usaha di Sektor Penangkaran Satwa atau Tumbuhan Liar  |             1  |                  Indonesia  |   2013  |            |         |           |    187  |          |\n",
      "   2  |    1  |  Jumlah Rumah Tangga Pertanian Menurut Wilayah dan Sumber Pendapatan Utama dari Usaha di Sektor Penangkaran Satwa atau Tumbuhan Liar  |            11  |                       ACEH  |   2013  |            |         |           |     42  |          |\n",
      "   3  |    2  |  Jumlah Rumah Tangga Pertanian Menurut Wilayah dan Sumber Pendapatan Utama dari Usaha di Sektor Penangkaran Satwa atau Tumbuhan Liar  |            12  |             SUMATERA UTARA  |   2013  |            |         |           |         |          |\n",
      "   4  |    3  |  Jumlah Rumah Tangga Pertanian Menurut Wilayah dan Sumber Pendapatan Utama dari Usaha di Sektor Penangkaran Satwa atau Tumbuhan Liar  |            13  |             SUMATERA BARAT  |   2013  |            |         |           |         |          |\n",
      "   5  |    4  |  Jumlah Rumah Tangga Pertanian Menurut Wilayah dan Sumber Pendapatan Utama dari Usaha di Sektor Penangkaran Satwa atau Tumbuhan Liar  |            14  |                       RIAU  |   2013  |            |         |           |         |          |\n",
      "   6  |    5  |  Jumlah Rumah Tangga Pertanian Menurut Wilayah dan Sumber Pendapatan Utama dari Usaha di Sektor Penangkaran Satwa atau Tumbuhan Liar  |            15  |                      JAMBI  |   2013  |            |         |           |         |          |\n",
      "   7  |    6  |  Jumlah Rumah Tangga Pertanian Menurut Wilayah dan Sumber Pendapatan Utama dari Usaha di Sektor Penangkaran Satwa atau Tumbuhan Liar  |            16  |           SUMATERA SELATAN  |   2013  |            |         |           |         |          |\n",
      "   8  |    7  |  Jumlah Rumah Tangga Pertanian Menurut Wilayah dan Sumber Pendapatan Utama dari Usaha di Sektor Penangkaran Satwa atau Tumbuhan Liar  |            17  |                   BENGKULU  |   2013  |            |         |           |         |          |\n",
      "   9  |    8  |  Jumlah Rumah Tangga Pertanian Menurut Wilayah dan Sumber Pendapatan Utama dari Usaha di Sektor Penangkaran Satwa atau Tumbuhan Liar  |            18  |                    LAMPUNG  |   2013  |            |         |           |         |          |\n",
      "  10  |    9  |  Jumlah Rumah Tangga Pertanian Menurut Wilayah dan Sumber Pendapatan Utama dari Usaha di Sektor Penangkaran Satwa atau Tumbuhan Liar  |            19  |  KEPULAUAN BANGKA BELITUNG  |   2013  |            |         |           |         |          |\n",
      " ...  |  ...  |                                                                                                                                  ...  |           ...  |                        ...  |    ...  |       ...  |    ...  |      ...  |    ...  |     ...  |\n",
      " 437  |  436  |  Jumlah Rumah Tangga Pertanian Menurut Wilayah dan Sumber Pendapatan Utama dari Usaha di Sektor Penangkaran Satwa atau Tumbuhan Liar  |          7310  |                      BARRU  |   2013  |            |         |           |         |          |\n",
      " 438  |  437  |  Jumlah Rumah Tangga Pertanian Menurut Wilayah dan Sumber Pendapatan Utama dari Usaha di Sektor Penangkaran Satwa atau Tumbuhan Liar  |          7311  |                       BONE  |   2013  |            |         |           |         |          |\n",
      " 439  |  438  |  Jumlah Rumah Tangga Pertanian Menurut Wilayah dan Sumber Pendapatan Utama dari Usaha di Sektor Penangkaran Satwa atau Tumbuhan Liar  |          7312  |                    SOPPENG  |   2013  |            |         |           |         |          |\n",
      " 440  |  439  |  Jumlah Rumah Tangga Pertanian Menurut Wilayah dan Sumber Pendapatan Utama dari Usaha di Sektor Penangkaran Satwa atau Tumbuhan Liar  |          7313  |                       WAJO  |   2013  |            |         |           |         |          |\n",
      " 441  |  440  |  Jumlah Rumah Tangga Pertanian Menurut Wilayah dan Sumber Pendapatan Utama dari Usaha di Sektor Penangkaran Satwa atau Tumbuhan Liar  |          7314  |          SIDENRENG RAPPANG  |   2013  |            |         |           |         |          |\n",
      " 442  |  441  |  Jumlah Rumah Tangga Pertanian Menurut Wilayah dan Sumber Pendapatan Utama dari Usaha di Sektor Penangkaran Satwa atau Tumbuhan Liar  |          7315  |                    PINRANG  |   2013  |            |         |           |         |          |\n",
      " 443  |  442  |  Jumlah Rumah Tangga Pertanian Menurut Wilayah dan Sumber Pendapatan Utama dari Usaha di Sektor Penangkaran Satwa atau Tumbuhan Liar  |          7316  |                   ENREKANG  |   2013  |            |         |           |         |          |\n",
      " 444  |  443  |  Jumlah Rumah Tangga Pertanian Menurut Wilayah dan Sumber Pendapatan Utama dari Usaha di Sektor Penangkaran Satwa atau Tumbuhan Liar  |          7317  |                       LUWU  |   2013  |            |         |           |         |          |\n",
      " 445  |  444  |  Jumlah Rumah Tangga Pertanian Menurut Wilayah dan Sumber Pendapatan Utama dari Usaha di Sektor Penangkaran Satwa atau Tumbuhan Liar  |          7318  |                TANA TORAJA  |   2013  |            |         |           |         |          |\n",
      " 446  |  445  |  Jumlah Rumah Tangga Pertanian Menurut Wilayah dan Sumber Pendapatan Utama dari Usaha di Sektor Penangkaran Satwa atau Tumbuhan Liar  |          7322  |                 LUWU UTARA  |   2013  |            |         |           |         |          |\n",
      "        Structure of 12181625.xlsx        \n",
      " Index  |  Column Name   |  Column Type  |\n",
      "------------------------------------------\n",
      "     0  |           _id  |      INTEGER  |\n",
      "     1  |           idx  |      INTEGER  |\n",
      "     2  |        series  |       STRING  |\n",
      "     3  |  kode_wilayah  |      INTEGER  |\n",
      "     4  |       wilayah  |       STRING  |\n",
      "     5  |         tahun  |      INTEGER  |\n",
      "     6  |         nilai  |      INTEGER  |\n"
     ]
    },
    {
     "ename": "ERROR",
     "evalue": " java.lang.IllegalStateException",
     "output_type": "error",
     "traceback": [
      "\u001b[1;31mERROR: java.lang.IllegalStateException: Column triwulan does not exist in table 12181625.xlsx\u001b[0;0m"
     ]
    }
   ],
   "source": [
    "import tech.tablesaw.api.*;\n",
    "import tech.tablesaw.io.xlsx.*;\n",
    "import static tech.tablesaw.aggregate.AggregateFunctions.*;\n",
    "\n",
    "// display Tablesaw tables with BeakerX table display widget\n",
    "tech.tablesaw.beakerx.TablesawDisplayer.register();\n",
    "\n",
    "//init objek\n",
    "Table  wenny= Table.read().csv(\"datasets/12181625/12181625.csv\");\n",
    "\n",
    "//print dataset structure\n",
    "System.out.println(wenny);\n",
    "\n",
    "//init objek XlsReader\n",
    "XlsxReader reader = new XlsxReader();\n",
    "XlsxReadOptions options = XlsxReadOptions.builder(\"datasets/12181625/12181625.xlsx\").build();\n",
    "Table tab = reader.read(options);\n",
    "\n",
    "Table dfDataXLS = reader.read(options);\n",
    "\n",
    "////Menampilkan struktur data frame dfDataXLS\n",
    "System.out.println(dfDataXLS.structure());\n",
    "\n",
    "//menggabungkan data pada dataframedata1 dan dataframedata2 untuk disimpan di df datagabung\n",
    "Table datagabung = wenny.append(dfDataXLS);\n",
    "\n",
    "//menampilkan gabungan data yang ada di dataframe datagabung\n",
    "System.out.println(datagabung); \n",
    "\n",
    "//menampilkan summary data yang ada di dataframe datagabung kolom \"grade\"\n",
    "System.out.print(datagabung.summarize(\"nilai\", mean, max, min).apply());\n",
    "\n",
    "\n",
    "\n"
   ]
  },
  {
   "cell_type": "code",
   "execution_count": null,
   "metadata": {},
   "outputs": [],
   "source": []
  }
 ],
 "metadata": {
  "kernelspec": {
   "display_name": "Java",
   "language": "java",
   "name": "java"
  },
  "language_info": {
   "codemirror_mode": "text/x-java",
   "file_extension": ".java",
   "mimetype": "",
   "name": "Java",
   "nbconverter_exporter": "",
   "version": "1.8.0_121"
  },
  "toc": {
   "base_numbering": 1,
   "nav_menu": {},
   "number_sections": false,
   "sideBar": false,
   "skip_h1_title": false,
   "title_cell": "Table of Contents",
   "title_sidebar": "Contents",
   "toc_cell": false,
   "toc_position": {},
   "toc_section_display": false,
   "toc_window_display": false
  }
 },
 "nbformat": 4,
 "nbformat_minor": 2
}
